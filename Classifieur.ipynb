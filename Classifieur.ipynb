{
 "cells": [
  {
   "cell_type": "code",
   "execution_count": 36,
   "metadata": {},
   "outputs": [
    {
     "name": "stdout",
     "output_type": "stream",
     "text": [
      "['Id', 'Abstract', 'Category']\n"
     ]
    }
   ],
   "source": [
    "import numpy as np\n",
    "import csv\n",
    "\n",
    "data = open('train.csv')\n",
    "csv_file = csv.reader(data)\n",
    "data_points = []\n",
    "\n",
    "for row in csv_file:\n",
    "    data_points.append(row)\n",
    "print(data_points[0])"
   ]
  },
  {
   "cell_type": "code",
   "execution_count": 35,
   "metadata": {},
   "outputs": [
    {
     "name": "stdout",
     "output_type": "stream",
     "text": [
      "Id\n"
     ]
    }
   ],
   "source": [
    "id_data = []\n",
    "for i in range(len(data_points)):\n",
    "    id_data.append(data_points[i][0])\n",
    "\n",
    "abstract_data = [] #\n",
    "for i in range(len(data_points)):\n",
    "    id_data.append(data_points[i][0])\n",
    "    \n",
    "category_data = []\n",
    "for i in range(len(data_points)):\n",
    "    id_data.append(data_points[i][0])"
   ]
  },
  {
   "cell_type": "code",
   "execution_count": null,
   "metadata": {},
   "outputs": [],
   "source": []
  },
  {
   "cell_type": "code",
   "execution_count": null,
   "metadata": {},
   "outputs": [],
   "source": []
  }
 ],
 "metadata": {
  "kernelspec": {
   "display_name": "Python 3",
   "language": "python",
   "name": "python3"
  },
  "language_info": {
   "codemirror_mode": {
    "name": "ipython",
    "version": 3
   },
   "file_extension": ".py",
   "mimetype": "text/x-python",
   "name": "python",
   "nbconvert_exporter": "python",
   "pygments_lexer": "ipython3",
   "version": "3.6.5"
  }
 },
 "nbformat": 4,
 "nbformat_minor": 2
}
