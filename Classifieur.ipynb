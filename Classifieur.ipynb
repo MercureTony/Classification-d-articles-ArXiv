{
 "cells": [
  {
   "cell_type": "code",
   "execution_count": 10,
   "metadata": {},
   "outputs": [
    {
     "name": "stdout",
     "output_type": "stream",
     "text": [
      "['Id', 'Abstract', 'Category']\n"
     ]
    }
   ],
   "source": [
    "import numpy as np\n",
    "import csv\n",
    "\n",
    "#Importer nos données \n",
    "\n",
    "data = open('train.csv')\n",
    "csv_file = csv.reader(data)\n",
    "data_points = []\n",
    "\n",
    "for row in csv_file:\n",
    "    data_points.append(row)\n",
    "print(data_points[0])"
   ]
  },
  {
   "cell_type": "code",
   "execution_count": 11,
   "metadata": {},
   "outputs": [
    {
     "data": {
      "text/plain": [
       "'Category'"
      ]
     },
     "execution_count": 11,
     "metadata": {},
     "output_type": "execute_result"
    }
   ],
   "source": [
    "#INFO: 7500 données\n",
    "\n",
    "id_data = []\n",
    "for i in range(len(data_points)):\n",
    "    id_data.append(data_points[i][0])\n",
    "    \n",
    "id_data.pop(0)\n",
    "\n",
    "abstract_data = [] #\n",
    "for i in range(len(data_points)):\n",
    "    abstract_data.append(data_points[i][1])\n",
    "\n",
    "abstract_data.pop(0)\n",
    "\n",
    "category_data = []\n",
    "for i in range(len(data_points)):\n",
    "    category_data.append(data_points[i][2])\n",
    "\n",
    "category_data.pop(0)"
   ]
  },
  {
   "cell_type": "code",
   "execution_count": 12,
   "metadata": {},
   "outputs": [
    {
     "name": "stdout",
     "output_type": "stream",
     "text": [
      "[500, 500, 500, 500, 500, 500, 500, 500, 500, 500, 500, 500, 500, 500, 500]\n"
     ]
    }
   ],
   "source": [
    "#On commpte le nombre d'instance de chaque classe\n",
    "\n",
    "classe = np.unique(category_data)\n",
    "\n",
    "counts = []\n",
    "\n",
    "#On crée une liste du nombre d'occurrences des classes\n",
    "for x in range(len(classe)):\n",
    "    counts.append(0)\n",
    "\n",
    "#On compte le nombre de classes dans nos données\n",
    "where = []\n",
    "for x in range(len(category_data)):\n",
    "    where = np.where(classe ==category_data[x])\n",
    "    counts[where[0][0]] += 1\n",
    "print(counts)"
   ]
  },
  {
   "cell_type": "code",
   "execution_count": 13,
   "metadata": {},
   "outputs": [
    {
     "name": "stdout",
     "output_type": "stream",
     "text": [
      "[0.06666666666666667, 0.06666666666666667, 0.06666666666666667, 0.06666666666666667, 0.06666666666666667, 0.06666666666666667, 0.06666666666666667, 0.06666666666666667, 0.06666666666666667, 0.06666666666666667, 0.06666666666666667, 0.06666666666666667, 0.06666666666666667, 0.06666666666666667, 0.06666666666666667]\n"
     ]
    }
   ],
   "source": [
    "#Probabilité d'avoir une classe X dans nos données, prior P(c)\n",
    "\n",
    "prior = []\n",
    "\n",
    "for x in counts:\n",
    "    prior.append(x/len(category_data))\n",
    "print(prior)"
   ]
  },
  {
   "cell_type": "code",
   "execution_count": 18,
   "metadata": {},
   "outputs": [
    {
     "name": "stderr",
     "output_type": "stream",
     "text": [
      "[nltk_data] Downloading package stopwords to\n",
      "[nltk_data]     C:\\Users\\mercu\\AppData\\Roaming\\nltk_data...\n",
      "[nltk_data]   Package stopwords is already up-to-date!\n",
      "[nltk_data] Downloading package punkt to\n",
      "[nltk_data]     C:\\Users\\mercu\\AppData\\Roaming\\nltk_data...\n",
      "[nltk_data]   Package punkt is already up-to-date!\n"
     ]
    },
    {
     "data": {
      "text/plain": [
       "['energy',\n",
       " 'released',\n",
       " 'solar',\n",
       " 'flare',\n",
       " 'partitioned',\n",
       " 'thermal',\n",
       " 'non-thermal',\n",
       " 'particle',\n",
       " 'energy',\n",
       " 'lost',\n",
       " 'thermal',\n",
       " 'conduction',\n",
       " 'radiation',\n",
       " 'broad',\n",
       " 'range',\n",
       " 'wavelengths',\n",
       " '.',\n",
       " 'difficult',\n",
       " 'determine',\n",
       " 'conductive',\n",
       " 'losses',\n",
       " 'energy',\n",
       " 'radiated',\n",
       " 'transition',\n",
       " 'region',\n",
       " 'temperatures',\n",
       " 'impulsive',\n",
       " 'phases',\n",
       " 'flares',\n",
       " '.',\n",
       " 'use',\n",
       " 'UVCS',\n",
       " 'measurements',\n",
       " 'VI',\n",
       " 'photons',\n",
       " 'produced',\n",
       " '5',\n",
       " 'flares',\n",
       " 'subsequently',\n",
       " 'scattered',\n",
       " 'VI',\n",
       " 'ions',\n",
       " 'corona',\n",
       " 'determine',\n",
       " '5.0',\n",
       " '<',\n",
       " 'log',\n",
       " '<',\n",
       " '6.0',\n",
       " 'transition',\n",
       " 'region',\n",
       " 'luminosities',\n",
       " '.',\n",
       " 'compare',\n",
       " 'rates',\n",
       " 'increase',\n",
       " 'thermal',\n",
       " 'energy',\n",
       " 'conductive',\n",
       " 'losses',\n",
       " 'deduced',\n",
       " 'RHESSI',\n",
       " 'GOES',\n",
       " 'X-ray',\n",
       " 'data',\n",
       " 'using',\n",
       " 'areas',\n",
       " 'RHESSI',\n",
       " 'images',\n",
       " 'estimate',\n",
       " 'loop',\n",
       " 'volumes',\n",
       " ',',\n",
       " 'cross-sectional',\n",
       " 'areas',\n",
       " 'scale',\n",
       " 'lengths',\n",
       " '.',\n",
       " 'transition',\n",
       " 'region',\n",
       " 'luminosities',\n",
       " 'impulsive',\n",
       " 'phase',\n",
       " 'exceed',\n",
       " 'X-ray',\n",
       " 'luminosities',\n",
       " 'first',\n",
       " 'minutes',\n",
       " ',',\n",
       " 'smaller',\n",
       " 'rates',\n",
       " 'increase',\n",
       " 'thermal',\n",
       " 'energy',\n",
       " 'unless',\n",
       " 'filling',\n",
       " 'factor',\n",
       " 'X-ray',\n",
       " 'emitting',\n",
       " 'gas',\n",
       " '~',\n",
       " '0.01',\n",
       " '.',\n",
       " 'estimated',\n",
       " 'conductive',\n",
       " 'losses',\n",
       " 'hot',\n",
       " 'gas',\n",
       " 'large',\n",
       " 'balanced',\n",
       " 'radiative',\n",
       " 'losses',\n",
       " 'heating',\n",
       " 'evaporated',\n",
       " 'plasma',\n",
       " ',',\n",
       " 'conclude',\n",
       " 'area',\n",
       " 'flare',\n",
       " 'magnetic',\n",
       " 'flux',\n",
       " 'tubes',\n",
       " 'much',\n",
       " 'smaller',\n",
       " 'effective',\n",
       " 'area',\n",
       " 'measured',\n",
       " 'RHESSI',\n",
       " 'phase',\n",
       " 'flares',\n",
       " '.',\n",
       " '2002',\n",
       " 'July',\n",
       " '23',\n",
       " 'flare',\n",
       " ',',\n",
       " 'energy',\n",
       " 'deposited',\n",
       " 'non-thermal',\n",
       " 'particles',\n",
       " 'exceeds',\n",
       " 'X-ray',\n",
       " 'UV',\n",
       " 'energy',\n",
       " 'losses',\n",
       " 'rate',\n",
       " 'increase',\n",
       " 'thermal',\n",
       " 'energy',\n",
       " '.']"
      ]
     },
     "execution_count": 18,
     "metadata": {},
     "output_type": "execute_result"
    }
   ],
   "source": [
    "import nltk \n",
    "\n",
    "nltk.download('stopwords')\n",
    "nltk.download('punkt')\n",
    "\n",
    "from nltk.corpus import stopwords #On importe les mots à rétirer\n",
    "from nltk.tokenize import word_tokenize #Module pour séparer les éléments\n",
    "from nltk.probability import FreqDist #Module pour compter la fréquence\n",
    "\n",
    "#Compter le nombre de mot de chaque classe\n",
    "\n",
    "extract = []\n",
    "banned_word = stopwords.words('english')\n",
    "banned_word.append('.')\n",
    "\n",
    "def extraction(phrase):\n",
    "    for m in phrase:\n",
    "        if m.lower() not in banned_word:\n",
    "            extract.append(m)\n",
    "    return extract\n",
    "\n",
    "extraction(word_tokenize(abstract_data[0]))\n",
    "\n",
    "#Probabillité d'avoir un mot sachant une classe, vraisemblance P(c/x)"
   ]
  },
  {
   "cell_type": "code",
   "execution_count": 8,
   "metadata": {},
   "outputs": [
    {
     "data": {
      "text/plain": [
       "'! pip install matplotlib --user\\n\\nimport matplotlib.pyplot as plt\\n\\nFreqDist(word_tokenize(abstract_data[0])).plot(30,cumulative=False)\\nplt.show()'"
      ]
     },
     "execution_count": 8,
     "metadata": {},
     "output_type": "execute_result"
    }
   ],
   "source": [
    "#! pip install matplotlib --user\n",
    "\n",
    "#import matplotlib.pyplot as plt\n",
    "\n",
    "#FreqDist(word_tokenize(abstract_data[0])).plot(30,cumulative=False)\n",
    "#plt.show()\"\"\"\n",
    "\n",
    "\n",
    "#print(banned_word)\n",
    "\n",
    "\n",
    "#print(word_tokenize(abstract_data[0]))   \n",
    "#print(FreqDist(word_tokenize(abstract_data[0])).most_common(2))"
   ]
  },
  {
   "cell_type": "code",
   "execution_count": null,
   "metadata": {},
   "outputs": [],
   "source": []
  },
  {
   "cell_type": "code",
   "execution_count": null,
   "metadata": {},
   "outputs": [],
   "source": []
  }
 ],
 "metadata": {
  "kernelspec": {
   "display_name": "Python 3",
   "language": "python",
   "name": "python3"
  },
  "language_info": {
   "codemirror_mode": {
    "name": "ipython",
    "version": 3
   },
   "file_extension": ".py",
   "mimetype": "text/x-python",
   "name": "python",
   "nbconvert_exporter": "python",
   "pygments_lexer": "ipython3",
   "version": "3.6.5"
  }
 },
 "nbformat": 4,
 "nbformat_minor": 2
}
